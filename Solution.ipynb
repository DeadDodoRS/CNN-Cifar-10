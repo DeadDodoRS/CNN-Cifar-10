{
 "cells": [
  {
   "cell_type": "markdown",
   "metadata": {},
   "source": [
    "Make code reproducible"
   ]
  },
  {
   "cell_type": "code",
   "execution_count": 1,
   "metadata": {},
   "outputs": [],
   "source": [
    "import os\n",
    "import random\n",
    "import numpy as np\n",
    "import tensorflow as tf\n",
    "\n",
    "seed_value = 42\n",
    "\n",
    "os.environ['PYTHONHASHSEED'] = str(seed_value)\n",
    "random.seed(seed_value)\n",
    "np.random.seed(seed_value)\n",
    "tf.random.set_seed(seed_value)"
   ]
  },
  {
   "cell_type": "markdown",
   "metadata": {},
   "source": [
    "Load and split the data. Print random sample"
   ]
  },
  {
   "cell_type": "code",
   "execution_count": 13,
   "metadata": {},
   "outputs": [
    {
     "name": "stdout",
     "output_type": "stream",
     "text": [
      "Requirement already satisfied: pandas in /usr/local/lib/python3.6/dist-packages (1.1.5)\n",
      "Requirement already satisfied: pytz>=2017.2 in /usr/local/lib/python3.6/dist-packages (from pandas) (2020.5)\n",
      "Requirement already satisfied: numpy>=1.15.4 in /usr/local/lib/python3.6/dist-packages (from pandas) (1.19.4)\n",
      "Requirement already satisfied: python-dateutil>=2.7.3 in /usr/local/lib/python3.6/dist-packages (from pandas) (2.8.1)\n",
      "Requirement already satisfied: six>=1.5 in /usr/local/lib/python3.6/dist-packages (from python-dateutil>=2.7.3->pandas) (1.15.0)\n",
      "\u001b[33mWARNING: You are using pip version 20.2.4; however, version 20.3.3 is available.\n",
      "You should consider upgrading via the '/usr/bin/python3 -m pip install --upgrade pip' command.\u001b[0m\n",
      "Requirement already satisfied: matplotlib in /usr/local/lib/python3.6/dist-packages (3.3.3)\n",
      "Requirement already satisfied: pyparsing!=2.0.4,!=2.1.2,!=2.1.6,>=2.0.3 in /usr/local/lib/python3.6/dist-packages (from matplotlib) (2.4.7)\n",
      "Requirement already satisfied: python-dateutil>=2.1 in /usr/local/lib/python3.6/dist-packages (from matplotlib) (2.8.1)\n",
      "Requirement already satisfied: pillow>=6.2.0 in /usr/local/lib/python3.6/dist-packages (from matplotlib) (8.0.1)\n",
      "Requirement already satisfied: cycler>=0.10 in /usr/local/lib/python3.6/dist-packages (from matplotlib) (0.10.0)\n",
      "Requirement already satisfied: kiwisolver>=1.0.1 in /usr/local/lib/python3.6/dist-packages (from matplotlib) (1.3.1)\n",
      "Requirement already satisfied: numpy>=1.15 in /usr/local/lib/python3.6/dist-packages (from matplotlib) (1.19.4)\n",
      "Requirement already satisfied: six>=1.5 in /usr/local/lib/python3.6/dist-packages (from python-dateutil>=2.1->matplotlib) (1.15.0)\n",
      "\u001b[33mWARNING: You are using pip version 20.2.4; however, version 20.3.3 is available.\n",
      "You should consider upgrading via the '/usr/bin/python3 -m pip install --upgrade pip' command.\u001b[0m\n",
      "Requirement already satisfied: keras in /usr/local/lib/python3.6/dist-packages (2.4.3)\n",
      "Requirement already satisfied: scipy>=0.14 in /usr/local/lib/python3.6/dist-packages (from keras) (1.5.4)\n",
      "Requirement already satisfied: numpy>=1.9.1 in /usr/local/lib/python3.6/dist-packages (from keras) (1.19.4)\n",
      "Requirement already satisfied: pyyaml in /usr/local/lib/python3.6/dist-packages (from keras) (5.3.1)\n",
      "Requirement already satisfied: h5py in /usr/local/lib/python3.6/dist-packages (from keras) (3.1.0)\n",
      "Requirement already satisfied: cached-property; python_version < \"3.8\" in /usr/local/lib/python3.6/dist-packages (from h5py->keras) (1.5.2)\n",
      "\u001b[33mWARNING: You are using pip version 20.2.4; however, version 20.3.3 is available.\n",
      "You should consider upgrading via the '/usr/bin/python3 -m pip install --upgrade pip' command.\u001b[0m\n"
     ]
    }
   ],
   "source": [
    "!pip install pandas\n",
    "!pip install matplotlib\n",
    "!pip install keras"
   ]
  },
  {
   "cell_type": "code",
   "execution_count": 14,
   "metadata": {
    "jupyter": {
     "outputs_hidden": false
    },
    "pycharm": {
     "name": "#%%\n"
    }
   },
   "outputs": [
    {
     "name": "stdout",
     "output_type": "stream",
     "text": [
      "Image class: 6\n"
     ]
    },
    {
     "data": {
      "image/png": "[encoded data removed]",
      "text/plain": [
       "<Figure size 432x288 with 1 Axes>"
      ]
     },
     "metadata": {
      "needs_background": "light"
     },
     "output_type": "display_data"
    },
    {
     "name": "stdout",
     "output_type": "stream",
     "text": [
      "Dataset shape: (42000, 32, 32, 3)\n"
     ]
    }
   ],
   "source": [
    "import pandas as pd\n",
    "import matplotlib.pyplot as plt\n",
    "from random import randint\n",
    "\n",
    "from sklearn.model_selection import train_test_split\n",
    "\n",
    "X = np.load('xs.npy')\n",
    "y = np.load('ys.npy')\n",
    "\n",
    "x_train, x_test, y_train, y_test = train_test_split(X, y, test_size=0.2, random_state=42)\n",
    "\n",
    "for i in range(1):\n",
    "    print('Image class: {}'.format(y_train[a]))\n",
    "    a = randint(0, len(x_train))\n",
    "    plt.imshow(x_train[a])\n",
    "    plt.show()\n",
    "\n",
    "print('Dataset shape: {}'.format(x_train.shape))"
   ]
  },
  {
   "cell_type": "markdown",
   "metadata": {},
   "source": [
    "Import tensorflow library and necessary tools"
   ]
  },
  {
   "cell_type": "code",
   "execution_count": 15,
   "metadata": {},
   "outputs": [],
   "source": [
    "from tensorflow.python import keras\n",
    "from tensorflow.keras import layers\n",
    "\n",
    "from keras.layers import Conv2D, MaxPool2D, Flatten, Dense, Dropout, BatchNormalization, Activation, GlobalAveragePooling2D, Lambda\n",
    "from keras.models import Sequential\n",
    "from keras.optimizers import SGD, Adam, Nadam, RMSprop\n",
    "from keras.regularizers import l2\n",
    "\n",
    "from keras.callbacks import EarlyStopping, ReduceLROnPlateau\n",
    "from keras.preprocessing.image import ImageDataGenerator\n",
    "\n",
    "from keras.layers.experimental.preprocessing import Resizing\n",
    "\n",
    "from tensorflow.distribute import MirroredStrategy\n",
    "from tensorflow.keras.applications import EfficientNetB1\n",
    "\n",
    "from keras import regularizers\n",
    "from keras.initializers import he_normal"
   ]
  },
  {
   "cell_type": "markdown",
   "metadata": {},
   "source": [
    "Model"
   ]
  },
  {
   "cell_type": "code",
   "execution_count": 16,
   "metadata": {},
   "outputs": [],
   "source": [
    "def make_model():\n",
    "    weight_decay = 0.0005\n",
    "    class_num = 9\n",
    "    \n",
    "    inputs = keras.Input(shape = (32, 32, 3))\n",
    "\n",
    "    resize = Resizing(240, 240, interpolation=\"bilinear\")(inputs)\n",
    "    preprocess_input = Lambda(keras.applications.efficientnet.preprocess_input)(resize)\n",
    "\n",
    "    convLayers = EfficientNetB1(\n",
    "        include_top = False, \n",
    "        weights = 'imagenet',\n",
    "        input_tensor = preprocess_input,\n",
    "        pooling = None,\n",
    "        classes = class_num, \n",
    "        classifier_activation = 'softmax'\n",
    "    )\n",
    "\n",
    "    convLayers.trainable = False\n",
    "    x = convLayers.output\n",
    "    \n",
    "    x = Dense(512, kernel_regularizer=regularizers.l2(weight_decay))(x)\n",
    "    x = Activation('relu')(x)\n",
    "    x = BatchNormalization()(x)\n",
    "    x = GlobalAveragePooling2D()(x)\n",
    "    x = Dropout(0.5)(x)\n",
    "    x = Dense(class_num, activation = 'softmax')(x)\n",
    "\n",
    "    model = keras.Model(convLayers.input, x)\n",
    "    return model"
   ]
  },
  {
   "cell_type": "code",
   "execution_count": 21,
   "metadata": {},
   "outputs": [
    {
     "name": "stdout",
     "output_type": "stream",
     "text": [
      "INFO:tensorflow:Using MirroredStrategy with devices ('/job:localhost/replica:0/task:0/device:GPU:0',)\n",
      "Epoch 1/20\n",
      "296/296 - 51s - loss: 1.0604 - accuracy: 0.7667 - val_loss: 0.7299 - val_accuracy: 0.8829\n",
      "Epoch 2/20\n",
      "296/296 - 38s - loss: 0.7450 - accuracy: 0.8638 - val_loss: 0.6441 - val_accuracy: 0.8990\n",
      "Epoch 3/20\n",
      "296/296 - 38s - loss: 0.6791 - accuracy: 0.8771 - val_loss: 0.5983 - val_accuracy: 0.9090\n",
      "Epoch 4/20\n",
      "296/296 - 38s - loss: 0.6257 - accuracy: 0.8886 - val_loss: 0.5694 - val_accuracy: 0.9114\n",
      "Epoch 5/20\n",
      "296/296 - 38s - loss: 0.5912 - accuracy: 0.8948 - val_loss: 0.5387 - val_accuracy: 0.9157\n",
      "Epoch 6/20\n",
      "296/296 - 38s - loss: 0.5537 - accuracy: 0.9010 - val_loss: 0.5147 - val_accuracy: 0.9157\n",
      "Epoch 7/20\n",
      "296/296 - 38s - loss: 0.5225 - accuracy: 0.9067 - val_loss: 0.4940 - val_accuracy: 0.9186\n",
      "Epoch 8/20\n",
      "296/296 - 38s - loss: 0.5009 - accuracy: 0.9105 - val_loss: 0.4737 - val_accuracy: 0.9181\n",
      "Epoch 9/20\n",
      "296/296 - 38s - loss: 0.4750 - accuracy: 0.9125 - val_loss: 0.4572 - val_accuracy: 0.9202\n",
      "Epoch 10/20\n",
      "296/296 - 38s - loss: 0.4532 - accuracy: 0.9158 - val_loss: 0.4401 - val_accuracy: 0.9198\n",
      "Epoch 11/20\n",
      "296/296 - 38s - loss: 0.4318 - accuracy: 0.9202 - val_loss: 0.4266 - val_accuracy: 0.9229\n",
      "Epoch 12/20\n",
      "296/296 - 38s - loss: 0.4153 - accuracy: 0.9238 - val_loss: 0.4128 - val_accuracy: 0.9260\n",
      "Epoch 13/20\n",
      "296/296 - 38s - loss: 0.3954 - accuracy: 0.9268 - val_loss: 0.3991 - val_accuracy: 0.9262\n",
      "Epoch 14/20\n",
      "296/296 - 38s - loss: 0.3771 - accuracy: 0.9307 - val_loss: 0.3893 - val_accuracy: 0.9269\n",
      "Epoch 15/20\n",
      "296/296 - 38s - loss: 0.3677 - accuracy: 0.9304 - val_loss: 0.3819 - val_accuracy: 0.9286\n",
      "Epoch 16/20\n",
      "296/296 - 38s - loss: 0.3478 - accuracy: 0.9352 - val_loss: 0.3759 - val_accuracy: 0.9269\n",
      "Epoch 17/20\n",
      "296/296 - 38s - loss: 0.3351 - accuracy: 0.9387 - val_loss: 0.3629 - val_accuracy: 0.9295\n",
      "Epoch 18/20\n",
      "296/296 - 38s - loss: 0.3238 - accuracy: 0.9399 - val_loss: 0.3584 - val_accuracy: 0.9269\n",
      "Epoch 19/20\n",
      "296/296 - 38s - loss: 0.3141 - accuracy: 0.9412 - val_loss: 0.3509 - val_accuracy: 0.9302\n",
      "Epoch 20/20\n",
      "296/296 - 38s - loss: 0.3010 - accuracy: 0.9436 - val_loss: 0.3443 - val_accuracy: 0.9302\n"
     ]
    },
    {
     "data": {
      "text/plain": [
       "<tensorflow.python.keras.callbacks.History at 0x7f88544c7a58>"
      ]
     },
     "execution_count": 21,
     "metadata": {},
     "output_type": "execute_result"
    }
   ],
   "source": [
    "# For multi-device synchronous training\n",
    "strategy = tf.distribute.MirroredStrategy()\n",
    "with strategy.scope():\n",
    "    model = make_model()\n",
    "    model.compile(optimizer=Nadam(1e-4),\n",
    "                  loss = 'sparse_categorical_crossentropy',\n",
    "                  metrics = ['accuracy'])\n",
    "\n",
    "early_stopping = EarlyStopping(monitor = 'val_accuracy',\n",
    "                               patience = 10,\n",
    "                               restore_best_weights = True)\n",
    "\n",
    "lr_schedule = ReduceLROnPlateau(monitor='val_accuracy',\n",
    "                                factor = 0.3,\n",
    "                                patience = 6)\n",
    "\n",
    "model.fit(x = x_train, y = y_train,\n",
    "          validation_split = 0.1,\n",
    "          epochs = 20,\n",
    "          verbose = 2,\n",
    "          batch_size = 128,\n",
    "          callbacks = [early_stopping, lr_schedule])"
   ]
  },
  {
   "cell_type": "code",
   "execution_count": 23,
   "metadata": {},
   "outputs": [
    {
     "name": "stdout",
     "output_type": "stream",
     "text": [
      "329/329 [==============================] - 12s 36ms/step - loss: 0.3590 - accuracy: 0.9227\n",
      "[0.35899457335472107, 0.9226666688919067]\n"
     ]
    }
   ],
   "source": [
    "print(model.evaluate(x_test, y_test))"
   ]
  },
  {
   "cell_type": "code",
   "execution_count": 25,
   "metadata": {},
   "outputs": [
    {
     "name": "stdout",
     "output_type": "stream",
     "text": [
      "Epoch 1/10\n",
      "1182/1182 - 59s - loss: 0.3195 - accuracy: 0.9346 - val_loss: 0.3419 - val_accuracy: 0.9295\n",
      "Epoch 2/10\n",
      "1182/1182 - 47s - loss: 0.3084 - accuracy: 0.9370 - val_loss: 0.3359 - val_accuracy: 0.9293\n",
      "Epoch 3/10\n",
      "1182/1182 - 47s - loss: 0.2964 - accuracy: 0.9383 - val_loss: 0.3286 - val_accuracy: 0.9286\n",
      "Epoch 4/10\n",
      "1182/1182 - 47s - loss: 0.2842 - accuracy: 0.9426 - val_loss: 0.3275 - val_accuracy: 0.9286\n",
      "Epoch 5/10\n",
      "1182/1182 - 47s - loss: 0.2748 - accuracy: 0.9434 - val_loss: 0.3204 - val_accuracy: 0.9305\n",
      "Epoch 6/10\n",
      "1182/1182 - 47s - loss: 0.2626 - accuracy: 0.9476 - val_loss: 0.3205 - val_accuracy: 0.9271\n",
      "Epoch 7/10\n",
      "1182/1182 - 47s - loss: 0.2554 - accuracy: 0.9485 - val_loss: 0.3157 - val_accuracy: 0.9307\n",
      "Epoch 8/10\n",
      "1182/1182 - 47s - loss: 0.2531 - accuracy: 0.9471 - val_loss: 0.3089 - val_accuracy: 0.9310\n",
      "Epoch 9/10\n",
      "1182/1182 - 47s - loss: 0.2427 - accuracy: 0.9508 - val_loss: 0.3041 - val_accuracy: 0.9283\n",
      "Epoch 10/10\n",
      "1182/1182 - 47s - loss: 0.2361 - accuracy: 0.9509 - val_loss: 0.2986 - val_accuracy: 0.9348\n"
     ]
    },
    {
     "data": {
      "text/plain": [
       "<tensorflow.python.keras.callbacks.History at 0x7f88e4389710>"
      ]
     },
     "execution_count": 25,
     "metadata": {},
     "output_type": "execute_result"
    }
   ],
   "source": [
    "# Unfreeze and train fist 55 and last 5 layers of ImageNet\n",
    "def unfreeze_model(model):\n",
    "    for layer in model.layers[-55:5]:\n",
    "        if not isinstance(layer, layers.BatchNormalization):\n",
    "            layer.trainable = True\n",
    "\n",
    "    optimizer = tf.keras.optimizers.Adam(learning_rate=1e-4)\n",
    "    model.compile(optimizer=optimizer, loss = 'sparse_categorical_crossentropy', metrics = ['accuracy'])\n",
    "\n",
    "unfreeze_model(model)\n",
    "epochs = 10\n",
    "model.fit(x = x_train, y = y_train, epochs = epochs, validation_split = 0.1, verbose=2)"
   ]
  },
  {
   "cell_type": "code",
   "execution_count": 26,
   "metadata": {},
   "outputs": [
    {
     "name": "stdout",
     "output_type": "stream",
     "text": [
      "329/329 [==============================] - 12s 35ms/step - loss: 0.3199 - accuracy: 0.9241\n",
      "Accuracy with unfreeze layers: [0.31985658407211304, 0.9240952134132385]\n"
     ]
    }
   ],
   "source": [
    "print(\"Accuracy with unfreeze layers: {}\".format(model.evaluate(x_test, y_test)))"
   ]
  },
  {
   "cell_type": "code",
   "execution_count": 27,
   "metadata": {},
   "outputs": [],
   "source": [
    "model.save('model.h5')"
   ]
  },
  {
   "cell_type": "code",
   "execution_count": null,
   "metadata": {},
   "outputs": [],
   "source": []
  }
 ],
 "metadata": {
  "kernelspec": {
   "display_name": "Python 3",
   "language": "python",
   "name": "python3"
  },
  "language_info": {
   "codemirror_mode": {
    "name": "ipython",
    "version": 3
   },
   "file_extension": ".py",
   "mimetype": "text/x-python",
   "name": "python",
   "nbconvert_exporter": "python",
   "pygments_lexer": "ipython3",
   "version": "3.6.9"
  }
 },
 "nbformat": 4,
 "nbformat_minor": 4
}
